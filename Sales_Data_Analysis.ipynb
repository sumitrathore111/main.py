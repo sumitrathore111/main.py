{
  "nbformat": 4,
  "nbformat_minor": 0,
  "metadata": {
    "colab": {
      "provenance": [],
      "authorship_tag": "ABX9TyODZ4aHHV22MGgd1RIKEktT",
      "include_colab_link": true
    },
    "kernelspec": {
      "name": "python3",
      "display_name": "Python 3"
    },
    "language_info": {
      "name": "python"
    }
  },
  "cells": [
    {
      "cell_type": "markdown",
      "metadata": {
        "id": "view-in-github",
        "colab_type": "text"
      },
      "source": [
        "<a href=\"https://colab.research.google.com/github/sumitrathore111/main.py/blob/main/Sales_Data_Analysis.ipynb\" target=\"_parent\"><img src=\"https://colab.research.google.com/assets/colab-badge.svg\" alt=\"Open In Colab\"/></a>"
      ]
    },
    {
      "cell_type": "markdown",
      "source": [
        "Data Wrangling"
      ],
      "metadata": {
        "id": "IQK1z377mGVS"
      }
    },
    {
      "cell_type": "code",
      "source": [
        "import pandas as pd\n",
        "import numpy as np\n",
        "import matplotlib.pyplot as plt\n",
        "import seaborn as sns\n",
        "\n",
        "# Load the dataset\n",
        "data = pd.read_csv('/content/1716984926_ausapparalsales4thqrt2020 (1).zip')\n",
        "\n",
        "print(data.info())  # Check data types and non-null values\n",
        "print(data.describe())  # Summary statistics for numeric columns\n",
        "print(data.head())  # Display the first few rows of data\n",
        "#check for missing values\n",
        "print(data.isnull().sum())\n",
        "#correcting data typ\n",
        "\n",
        "# Check the data types of each column\n",
        "print(data.dtypes)\n",
        "\n",
        "\n",
        "#checking duplicates\n",
        "duplicates = data.duplicated().sum()\n",
        "print(f\"Number of duplicate rows: {duplicates}\")\n",
        "\n",
        "\n"
      ],
      "metadata": {
        "colab": {
          "base_uri": "https://localhost:8080/"
        },
        "id": "qvvISYPTmKck",
        "outputId": "fcbd4783-eaba-4d37-ba2d-a2891d9a55a0"
      },
      "execution_count": 23,
      "outputs": [
        {
          "output_type": "stream",
          "name": "stdout",
          "text": [
            "<class 'pandas.core.frame.DataFrame'>\n",
            "RangeIndex: 7560 entries, 0 to 7559\n",
            "Data columns (total 6 columns):\n",
            " #   Column  Non-Null Count  Dtype \n",
            "---  ------  --------------  ----- \n",
            " 0   Date    7560 non-null   object\n",
            " 1   Time    7560 non-null   object\n",
            " 2   State   7560 non-null   object\n",
            " 3   Group   7560 non-null   object\n",
            " 4   Unit    7560 non-null   int64 \n",
            " 5   Sales   7560 non-null   int64 \n",
            "dtypes: int64(2), object(4)\n",
            "memory usage: 354.5+ KB\n",
            "None\n",
            "              Unit          Sales\n",
            "count  7560.000000    7560.000000\n",
            "mean     18.005423   45013.558201\n",
            "std      12.901403   32253.506944\n",
            "min       2.000000    5000.000000\n",
            "25%       8.000000   20000.000000\n",
            "50%      14.000000   35000.000000\n",
            "75%      26.000000   65000.000000\n",
            "max      65.000000  162500.000000\n",
            "         Date        Time State     Group  Unit  Sales\n",
            "0  1-Oct-2020     Morning    WA      Kids     8  20000\n",
            "1  1-Oct-2020     Morning    WA       Men     8  20000\n",
            "2  1-Oct-2020     Morning    WA     Women     4  10000\n",
            "3  1-Oct-2020     Morning    WA   Seniors    15  37500\n",
            "4  1-Oct-2020   Afternoon    WA      Kids     3   7500\n",
            "Date     0\n",
            "Time     0\n",
            "State    0\n",
            "Group    0\n",
            "Unit     0\n",
            "Sales    0\n",
            "dtype: int64\n",
            "Date     object\n",
            "Time     object\n",
            "State    object\n",
            "Group    object\n",
            "Unit      int64\n",
            "Sales     int64\n",
            "dtype: object\n",
            "Number of duplicate rows: 0\n"
          ]
        }
      ]
    },
    {
      "cell_type": "code",
      "source": [
        "## Using IQR method to detect outliers in 'Sales' column\n",
        "Q1 = data['Sales'].quantile(0.25)\n",
        "Q3 = data['Sales'].quantile(0.75)\n",
        "IQR = Q3 - Q1\n",
        "\n",
        "# Defining acceptable range (1.5 times the IQR)\n",
        "lower_bound = Q1 - 1.5 * IQR\n",
        "upper_bound = Q3 + 1.5 * IQR\n",
        "\n",
        "# Filter the data within the acceptable range\n",
        "data_cleaned = data[(data['Sales'] >= lower_bound) & (data['Sales'] <= upper_bound)]\n"
      ],
      "metadata": {
        "id": "LgnpMW9Uqh5D"
      },
      "execution_count": 24,
      "outputs": []
    },
    {
      "cell_type": "markdown",
      "source": [
        "Data Visualization"
      ],
      "metadata": {
        "id": "Zabwqq-ssr9T"
      }
    }
  ]
}